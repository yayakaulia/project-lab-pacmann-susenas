{
 "cells": [
  {
   "cell_type": "markdown",
   "metadata": {},
   "source": [
    "DATA SUSENAS 2013 KELOMPOK RUMAH TANGGA\n",
    "\n",
    "Analisis Kepemilikan tempat tinggal rumah tangga Indonesia 2013"
   ]
  },
  {
   "cell_type": "markdown",
   "metadata": {},
   "source": [
    "**READ DATA**"
   ]
  },
  {
   "cell_type": "code",
   "execution_count": 1,
   "metadata": {},
   "outputs": [],
   "source": [
    "import pandas as pd\n",
    "import numpy as np\n",
    "import seaborn as sns\n",
    "import matplotlib.pyplot as plt"
   ]
  },
  {
   "cell_type": "code",
   "execution_count": 2,
   "metadata": {},
   "outputs": [],
   "source": [
    "rumah = pd.read_csv('sn13_krt.csv',)\n",
    "\n",
    "rumah = rumah[['b1r1','b1r5','b2r1','b6r1','b6r2','b6r3','b6r5','b6r6','b6r7','exp_cap','wert']]\n",
    "rumah.columns = ['prov','desa_kota','anggota_rt','tipe_bangunan','jumlah_rt','status_milik','atap','dinding','lantai','exp_cap','bobot']"
   ]
  },
  {
   "cell_type": "markdown",
   "metadata": {},
   "source": [
    "saya akan gunakan beberapa variabel di atas yang sudah saya ganti namanya. Awalnya masih menggunakan status kepemilikan rumah saja, nanti akan menggunakan variabel lain untuk menganalisis kualitas rumah."
   ]
  },
  {
   "cell_type": "code",
   "execution_count": 3,
   "metadata": {},
   "outputs": [
    {
     "data": {
      "text/html": [
       "<div>\n",
       "<style scoped>\n",
       "    .dataframe tbody tr th:only-of-type {\n",
       "        vertical-align: middle;\n",
       "    }\n",
       "\n",
       "    .dataframe tbody tr th {\n",
       "        vertical-align: top;\n",
       "    }\n",
       "\n",
       "    .dataframe thead th {\n",
       "        text-align: right;\n",
       "    }\n",
       "</style>\n",
       "<table border=\"1\" class=\"dataframe\">\n",
       "  <thead>\n",
       "    <tr style=\"text-align: right;\">\n",
       "      <th></th>\n",
       "      <th>Total</th>\n",
       "      <th>Percent</th>\n",
       "    </tr>\n",
       "  </thead>\n",
       "  <tbody>\n",
       "    <tr>\n",
       "      <th>bobot</th>\n",
       "      <td>0</td>\n",
       "      <td>0.0</td>\n",
       "    </tr>\n",
       "    <tr>\n",
       "      <th>exp_cap</th>\n",
       "      <td>0</td>\n",
       "      <td>0.0</td>\n",
       "    </tr>\n",
       "    <tr>\n",
       "      <th>lantai</th>\n",
       "      <td>0</td>\n",
       "      <td>0.0</td>\n",
       "    </tr>\n",
       "    <tr>\n",
       "      <th>dinding</th>\n",
       "      <td>0</td>\n",
       "      <td>0.0</td>\n",
       "    </tr>\n",
       "    <tr>\n",
       "      <th>atap</th>\n",
       "      <td>0</td>\n",
       "      <td>0.0</td>\n",
       "    </tr>\n",
       "    <tr>\n",
       "      <th>status_milik</th>\n",
       "      <td>0</td>\n",
       "      <td>0.0</td>\n",
       "    </tr>\n",
       "    <tr>\n",
       "      <th>jumlah_rt</th>\n",
       "      <td>0</td>\n",
       "      <td>0.0</td>\n",
       "    </tr>\n",
       "    <tr>\n",
       "      <th>tipe_bangunan</th>\n",
       "      <td>0</td>\n",
       "      <td>0.0</td>\n",
       "    </tr>\n",
       "    <tr>\n",
       "      <th>anggota_rt</th>\n",
       "      <td>0</td>\n",
       "      <td>0.0</td>\n",
       "    </tr>\n",
       "    <tr>\n",
       "      <th>desa_kota</th>\n",
       "      <td>0</td>\n",
       "      <td>0.0</td>\n",
       "    </tr>\n",
       "    <tr>\n",
       "      <th>prov</th>\n",
       "      <td>0</td>\n",
       "      <td>0.0</td>\n",
       "    </tr>\n",
       "  </tbody>\n",
       "</table>\n",
       "</div>"
      ],
      "text/plain": [
       "               Total  Percent\n",
       "bobot              0      0.0\n",
       "exp_cap            0      0.0\n",
       "lantai             0      0.0\n",
       "dinding            0      0.0\n",
       "atap               0      0.0\n",
       "status_milik       0      0.0\n",
       "jumlah_rt          0      0.0\n",
       "tipe_bangunan      0      0.0\n",
       "anggota_rt         0      0.0\n",
       "desa_kota          0      0.0\n",
       "prov               0      0.0"
      ]
     },
     "execution_count": 3,
     "metadata": {},
     "output_type": "execute_result"
    }
   ],
   "source": [
    "total = rumah.isnull().sum().sort_values(ascending=False)\n",
    "percent = (rumah.isnull().sum()/rumah.isnull().count()).sort_values(ascending=False)\n",
    "missing_data = pd.concat([total, percent], axis=1, keys=['Total', 'Percent'])\n",
    "missing_data.head(20)"
   ]
  },
  {
   "cell_type": "markdown",
   "metadata": {},
   "source": [
    "Data sudah bersih dan tidak ada missing value."
   ]
  },
  {
   "cell_type": "markdown",
   "metadata": {},
   "source": [
    "**CLEANSING DATA**"
   ]
  },
  {
   "cell_type": "code",
   "execution_count": 4,
   "metadata": {},
   "outputs": [],
   "source": [
    "#memberi label desa atau kota\n",
    "rumah.loc[rumah['desa_kota']==1,'desa_kota']='kota'\n",
    "rumah.loc[rumah['desa_kota']==2,'desa_kota']='desa'\n",
    "\n",
    "#memberi label kepemilikan rumah\n",
    "rumah.loc[rumah['status_milik']==1,'kepemilikan']=1\n",
    "rumah.loc[rumah['status_milik']==2,'kepemilikan']=0\n",
    "rumah.loc[rumah['status_milik']==3,'kepemilikan']=0\n",
    "rumah.loc[rumah['status_milik']==4,'kepemilikan']=0\n",
    "rumah.loc[rumah['status_milik']==5,'kepemilikan']=0\n",
    "rumah.loc[rumah['status_milik']==6,'kepemilikan']=0\n",
    "rumah.loc[rumah['status_milik']==7,'kepemilikan']=0\n",
    "\n",
    "#memberi label untuk jawa dan non-jawa"
   ]
  },
  {
   "cell_type": "markdown",
   "metadata": {},
   "source": [
    "Guna untuk visualisasi analisis saya ganti nilai variabelnya supaya langsung terlihat labelnya.\n",
    "\n",
    "Sedikit mengenai kepemilikan rumah. label 1 merupakan milik sendiri, sedangkan 2 - 7 bukan milik sendiri(sewa/kontrak/bebas sewa/dinas). Mengapa yang lain saya kategorikan bukan_milik_sendiri? karena dengan memiliki sendiri lebih menunjukan kemampuan ekonomi. kemungkinan lain yang tidak bisa dilihat mungkin jika kepemilikan itu berasal dari hak waris."
   ]
  },
  {
   "cell_type": "code",
   "execution_count": 5,
   "metadata": {},
   "outputs": [],
   "source": [
    "#perhitungan bobot\n",
    "wt_sum = lambda x: np.sum(x, weights=rumah.loc[x.index, \"bobot\"])\n",
    "wt_mean = lambda x: np.average(x, weights=rumah.loc[x.index, \"bobot\"])"
   ]
  },
  {
   "cell_type": "markdown",
   "metadata": {},
   "source": [
    "\n",
    "**Analisis tingkat kepemilikan tempat tinggal pada rumah tangga Nasional**\n",
    "\n",
    "1. Hipotesis pertama adalah seberapa banyak tingkat kepemilikan tempat tinggal yang dimiliki sendiri oleh sebuah rumah tangga. Apakah rumah tangga di Indonesia lebih banyak yang memiliki tempat tinggal sendiri atau menyewa(kontrak)"
   ]
  },
  {
   "cell_type": "code",
   "execution_count": 6,
   "metadata": {},
   "outputs": [
    {
     "data": {
      "text/html": [
       "<div>\n",
       "<style scoped>\n",
       "    .dataframe tbody tr th:only-of-type {\n",
       "        vertical-align: middle;\n",
       "    }\n",
       "\n",
       "    .dataframe tbody tr th {\n",
       "        vertical-align: top;\n",
       "    }\n",
       "\n",
       "    .dataframe thead th {\n",
       "        text-align: right;\n",
       "    }\n",
       "</style>\n",
       "<table border=\"1\" class=\"dataframe\">\n",
       "  <thead>\n",
       "    <tr style=\"text-align: right;\">\n",
       "      <th></th>\n",
       "      <th>kepemilikan</th>\n",
       "      <th>bobot</th>\n",
       "    </tr>\n",
       "  </thead>\n",
       "  <tbody>\n",
       "    <tr>\n",
       "      <th>0</th>\n",
       "      <td>13482</td>\n",
       "      <td>13323751</td>\n",
       "    </tr>\n",
       "    <tr>\n",
       "      <th>1</th>\n",
       "      <td>57360</td>\n",
       "      <td>49827226</td>\n",
       "    </tr>\n",
       "  </tbody>\n",
       "</table>\n",
       "</div>"
      ],
      "text/plain": [
       "   kepemilikan     bobot\n",
       "0        13482  13323751\n",
       "1        57360  49827226"
      ]
     },
     "execution_count": 6,
     "metadata": {},
     "output_type": "execute_result"
    }
   ],
   "source": [
    "rumah_milik = rumah.groupby(\"kepemilikan\").agg(kepemilikan = (\"kepemilikan\", \"count\"), bobot = (\"bobot\", \"sum\"))\n",
    "rumah_milik.reset_index(drop=True).astype(int)"
   ]
  },
  {
   "cell_type": "code",
   "execution_count": 7,
   "metadata": {},
   "outputs": [
    {
     "data": {
      "text/plain": [
       "<matplotlib.axes._subplots.AxesSubplot at 0x28acc3e6ac8>"
      ]
     },
     "execution_count": 7,
     "metadata": {},
     "output_type": "execute_result"
    },
    {
     "data": {
      "image/png": "[encoded data removed]",
      "text/plain": [
       "<Figure size 432x288 with 1 Axes>"
      ]
     },
     "metadata": {
      "needs_background": "light"
     },
     "output_type": "display_data"
    }
   ],
   "source": [
    "#data yang menampilkan tingkat kempemilikikan rumah nasional\n",
    "sns.barplot(x=rumah_milik[\"kepemilikan\"].index, y=rumah_milik[\"bobot\"])"
   ]
  },
  {
   "cell_type": "markdown",
   "metadata": {},
   "source": [
    "Dari pemaparan analisis di atas, diketahui rumah tangga di Indonesia lebih banyak yang memiliki tempat tinggal sendiri ketimbang yang tidak memiliki memiliki. Akan tetapi angka yang tidak memiliki masih cukup tinggi, sekitar 21% dari total rumah tangga masih tidak memiliki tempat tinggal sendiri."
   ]
  },
  {
   "cell_type": "code",
   "execution_count": 8,
   "metadata": {},
   "outputs": [
    {
     "name": "stdout",
     "output_type": "stream",
     "text": [
      "Presentase dari rumah tangga yang tidak memiliki rumah keseluruhan:  21.098250661047047\n"
     ]
    }
   ],
   "source": [
    "a = rumah_milik[\"bobot\"].loc[0]\n",
    "b = rumah_milik[\"bobot\"].loc[1]\n",
    "prcntg = (a/(a+b))*100\n",
    "\n",
    "print(\"Presentase dari rumah tangga yang tidak memiliki rumah keseluruhan: \", prcntg)"
   ]
  },
  {
   "cell_type": "markdown",
   "metadata": {},
   "source": [
    "2. Sekarang mari kita coba lihat bagaimana perbandingan kepemilikan rumah di desa dengan kota."
   ]
  },
  {
   "cell_type": "code",
   "execution_count": 9,
   "metadata": {},
   "outputs": [
    {
     "data": {
      "text/html": [
       "<div>\n",
       "<style scoped>\n",
       "    .dataframe tbody tr th:only-of-type {\n",
       "        vertical-align: middle;\n",
       "    }\n",
       "\n",
       "    .dataframe tbody tr th {\n",
       "        vertical-align: top;\n",
       "    }\n",
       "\n",
       "    .dataframe thead th {\n",
       "        text-align: right;\n",
       "    }\n",
       "</style>\n",
       "<table border=\"1\" class=\"dataframe\">\n",
       "  <thead>\n",
       "    <tr style=\"text-align: right;\">\n",
       "      <th></th>\n",
       "      <th></th>\n",
       "      <th>desa_kota</th>\n",
       "      <th>kepemilikan</th>\n",
       "      <th>bobot</th>\n",
       "    </tr>\n",
       "    <tr>\n",
       "      <th>desa_kota</th>\n",
       "      <th>kepemilikan</th>\n",
       "      <th></th>\n",
       "      <th></th>\n",
       "      <th></th>\n",
       "    </tr>\n",
       "  </thead>\n",
       "  <tbody>\n",
       "    <tr>\n",
       "      <th rowspan=\"2\" valign=\"top\">desa</th>\n",
       "      <th>0.0</th>\n",
       "      <td>4819</td>\n",
       "      <td>4819</td>\n",
       "      <td>3874197</td>\n",
       "    </tr>\n",
       "    <tr>\n",
       "      <th>1.0</th>\n",
       "      <td>35547</td>\n",
       "      <td>35547</td>\n",
       "      <td>27994185</td>\n",
       "    </tr>\n",
       "    <tr>\n",
       "      <th rowspan=\"2\" valign=\"top\">kota</th>\n",
       "      <th>0.0</th>\n",
       "      <td>8663</td>\n",
       "      <td>8663</td>\n",
       "      <td>9449553</td>\n",
       "    </tr>\n",
       "    <tr>\n",
       "      <th>1.0</th>\n",
       "      <td>21813</td>\n",
       "      <td>21813</td>\n",
       "      <td>21833040</td>\n",
       "    </tr>\n",
       "  </tbody>\n",
       "</table>\n",
       "</div>"
      ],
      "text/plain": [
       "                       desa_kota  kepemilikan     bobot\n",
       "desa_kota kepemilikan                                  \n",
       "desa      0.0               4819         4819   3874197\n",
       "          1.0              35547        35547  27994185\n",
       "kota      0.0               8663         8663   9449553\n",
       "          1.0              21813        21813  21833040"
      ]
     },
     "execution_count": 9,
     "metadata": {},
     "output_type": "execute_result"
    }
   ],
   "source": [
    "#Perbandingan kepemilikan desa dan kota\n",
    "rumah_urban = rumah.groupby([ \"desa_kota\",\"kepemilikan\"]).agg(desa_kota = (\"desa_kota\", \"count\"),\n",
    "                                             kepemilikan = (\"kepemilikan\", \"count\"),\n",
    "                                             bobot = (\"bobot\", \"sum\"))\n",
    "rumah_urban.astype(int)"
   ]
  },
  {
   "cell_type": "code",
   "execution_count": 10,
   "metadata": {},
   "outputs": [
    {
     "data": {
      "text/plain": [
       "<matplotlib.axes._subplots.AxesSubplot at 0x28ace3a9448>"
      ]
     },
     "execution_count": 10,
     "metadata": {},
     "output_type": "execute_result"
    },
    {
     "data": {
      "image/png": "[encoded data removed]",
      "text/plain": [
       "<Figure size 432x288 with 1 Axes>"
      ]
     },
     "metadata": {
      "needs_background": "light"
     },
     "output_type": "display_data"
    }
   ],
   "source": [
    "sns.barplot(x=rumah_urban[\"desa_kota\"].index, y=rumah_urban[\"bobot\"])"
   ]
  },
  {
   "cell_type": "markdown",
   "metadata": {},
   "source": [
    "Temuan pada perbandingan tersebut cukup menarik dimana jumlah rumah tangga pedesaan lebih sedikit yang tidak memiliki rumah sendiri dibandingkan dengan perkotaan. Jika kita lihat angkanya, hampir separuh populasi di perkotaan tidak memiliki sendiri. Faktor penyebab ketimpangan ini mungkin bisa dilihat dari harga rumah di perkotaan yang lebih tinggi dan kepadatan penduduk di perkotaan."
   ]
  },
  {
   "cell_type": "markdown",
   "metadata": {},
   "source": [
    "3. perbandingan tingkat kepemilikan rumah di pulau jawa dan non-jawa"
   ]
  },
  {
   "cell_type": "code",
   "execution_count": 11,
   "metadata": {},
   "outputs": [
    {
     "data": {
      "text/plain": [
       "<matplotlib.axes._subplots.AxesSubplot at 0x28acdc80e08>"
      ]
     },
     "execution_count": 11,
     "metadata": {},
     "output_type": "execute_result"
    },
    {
     "data": {
      "image/png": "[encoded data removed]",
      "text/plain": [
       "<Figure size 432x288 with 1 Axes>"
      ]
     },
     "metadata": {
      "needs_background": "light"
     },
     "output_type": "display_data"
    }
   ],
   "source": [
    "def perov(x):\n",
    "        if x > 30 and x < 40:\n",
    "            return \"jawa\"\n",
    "        else:\n",
    "            return \"non_jawa\"\n",
    "\n",
    "rumah[\"pulau_jawa\"] = rumah[[\"prov\"]].applymap(perov)\n",
    "rumah_prov = rumah.groupby([\"pulau_jawa\",\"kepemilikan\"]).agg(pulau_jawa = (\"pulau_jawa\", \"count\"),\n",
    "                                                             bobot = (\"bobot\", \"sum\"))\n",
    "sns.barplot(x=rumah_prov[\"pulau_jawa\"].index, y=rumah_prov[\"bobot\"])"
   ]
  },
  {
   "cell_type": "markdown",
   "metadata": {},
   "source": [
    "Tentu saja kepemilikan rumah pada rumah tangga di pulau jawa tinggi karena lebih padat. Menariknya adalah di luar pulau jawa tingkat kepemilikan rumah juga rendah jika kita rasiokan antara rumah tangga yang punya rumah dengan yang tidak punya. secara aggregat hampir sama dengan penduduk yang lebih sedikit."
   ]
  },
  {
   "cell_type": "markdown",
   "metadata": {},
   "source": [
    "4. Kualitas bangunan rumah secara sederhana\n",
    "\n",
    "pertama kita akan mengkategorikan setiap kolom yang menggambarkan kualitas rumah (atap, dinding, dan lantai) yang digunakan ke dalam definisi kualitas material yang baik (1) dan buruk (0).\n",
    " - pertama atap. nilai 1 - 7 menggambarkan secara berurutan Beton, Genteng, Sirap, Seng, Asbes, Ijuk/Rumbi, dan lainnya. Saya akan kategorikan nomer 1-3 sebagai material yang baik dan selebihnya buruk.\n",
    " - kedua dinding. nilai 1 - 4 menggambarkan secara berurutan Tembok, Kayu, Bambu, dan lainnya. Saya akan kategorikan nomor 1 saja sebagai material yang baik, selebihnya buruk\n",
    " - ketiga lantai.  nilai 1 - 6 menggambarkan secara berurutan marmer/keramik/granit, tegel/teraso, semen, kayu, tanah, dan lainnya. Saya akan kategorikan nomor 1 - 2 sebagai material yang baik, selebihnya buruk."
   ]
  },
  {
   "cell_type": "code",
   "execution_count": 24,
   "metadata": {},
   "outputs": [],
   "source": [
    "#On process"
   ]
  },
  {
   "cell_type": "markdown",
   "metadata": {},
   "source": [
    "5. korelasi antara pengeluaran dengan tingkat kepemilikan rumah"
   ]
  },
  {
   "cell_type": "code",
   "execution_count": 12,
   "metadata": {},
   "outputs": [
    {
     "data": {
      "image/png": "[encoded data removed]",
      "text/plain": [
       "<Figure size 432x288 with 1 Axes>"
      ]
     },
     "metadata": {
      "needs_background": "light"
     },
     "output_type": "display_data"
    }
   ],
   "source": [
    "rumah_bb = rumah.groupby([\"status_milik\"]).agg(exp = (\"exp_cap\", wt_mean), bobot = (\"bobot\", \"sum\"))\n",
    "\n",
    "# Log Pengeluaran per Kapita\n",
    "x_pce = rumah_bb[\"bobot\"].index\n",
    "y_pce = np.log(rumah_bb[\"exp\"])\n",
    "\n",
    "# Plot\n",
    "plt.scatter(x_pce, y_pce, alpha=0.4, c='red')\n",
    "plt.title('Pengeluaran per Kapita dan Status Kepemilikan Rumah')\n",
    "plt.xlabel('Log Per Capita Expenditure')\n",
    "plt.ylabel('status_milik')\n",
    "plt.rcParams['figure.figsize'] = [7,7]\n",
    "plt.show()"
   ]
  },
  {
   "cell_type": "markdown",
   "metadata": {},
   "source": [
    "- Sekilas terlihat bahwa rumah tangga yang memiliki rumah belum tentu memiliki pendapatan tinggi (kita gunakan pengeluaran sebagai tolok ukur kekuatan ekonomi).\n",
    "- Terlihat bahwa rumah tangga yang sewa, kontrak, dan memiliki rumah dinas memiliki tingkat pendapatan yang lebih tinggi\n",
    "- poin 4 & 5 merupakan rumah tangga yang bebas tinggal dan bebas sewa, sedangkan 7 lain-lain"
   ]
  },
  {
   "cell_type": "markdown",
   "metadata": {},
   "source": [
    "**Pesebaran Data status milik dengan Expenditure Cap (log)**"
   ]
  },
  {
   "cell_type": "code",
   "execution_count": 17,
   "metadata": {},
   "outputs": [
    {
     "data": {
      "text/plain": [
       "<matplotlib.axes._subplots.AxesSubplot at 0x28acf27d808>"
      ]
     },
     "execution_count": 17,
     "metadata": {},
     "output_type": "execute_result"
    },
    {
     "data": {
      "image/png": "[encoded data removed]",
      "text/plain": [
       "<Figure size 504x504 with 1 Axes>"
      ]
     },
     "metadata": {
      "needs_background": "light"
     },
     "output_type": "display_data"
    }
   ],
   "source": [
    "rumah[\"log_exp\"] = np.log(rumah[\"exp_cap\"])\n",
    "sns.boxplot(x=\"status_milik\", y=\"log_exp\", data=rumah)"
   ]
  },
  {
   "cell_type": "markdown",
   "metadata": {},
   "source": [
    "- Jika dilihat dari plot sebelumnya (scatter) bahwa rerata pendapatan orang yang memiliki rumah memang rendah, tapi jika kita lihat dengan boxplot terdapat banyak outliers pada status milik = 1, atau rumah dengan milik sendiri.\n",
    "- Untuk status kepemilikan lain yang memiliki banyak outliers ada pada status kepemilikan 5 (bebas sewa milik keluarga), dan 6 (rumah dinas). Jika seseorang (biasanya ASN) mendapat rumah dinas, bisa dikatakan memiliki pendapatan atau tingkat pengeluaran yang cukup tinggi, seperti ditunjukan pada tabel. Bahkan bisa dikatakan hampir sama tinggi dengan yang paling tinggi, Nomor 3 (sewa)"
   ]
  },
  {
   "cell_type": "markdown",
   "metadata": {},
   "source": [
    "jika kita coba membuat boxplot di atas dengan membandingkan yang berada di pulau jawa dan non jawa."
   ]
  },
  {
   "cell_type": "code",
   "execution_count": 23,
   "metadata": {},
   "outputs": [
    {
     "data": {
      "text/plain": [
       "<matplotlib.axes._subplots.AxesSubplot at 0x28acfd70648>"
      ]
     },
     "execution_count": 23,
     "metadata": {},
     "output_type": "execute_result"
    },
    {
     "data": {
      "image/png": "[encoded data removed]",
      "text/plain": [
       "<Figure size 504x504 with 1 Axes>"
      ]
     },
     "metadata": {
      "needs_background": "light"
     },
     "output_type": "display_data"
    }
   ],
   "source": [
    "sns.boxplot(x=\"status_milik\", y=\"log_exp\", hue=\"pulau_jawa\", data=rumah)"
   ]
  },
  {
   "cell_type": "markdown",
   "metadata": {},
   "source": [
    "tidak terdapat banyak perbedaan, hanya pada nomor 3 (sewa) dan nomor 6 (rumah dinas)"
   ]
  },
  {
   "cell_type": "code",
   "execution_count": null,
   "metadata": {},
   "outputs": [],
   "source": []
  }
 ],
 "metadata": {
  "kernelspec": {
   "display_name": "Python 3",
   "language": "python",
   "name": "python3"
  },
  "language_info": {
   "codemirror_mode": {
    "name": "ipython",
    "version": 3
   },
   "file_extension": ".py",
   "mimetype": "text/x-python",
   "name": "python",
   "nbconvert_exporter": "python",
   "pygments_lexer": "ipython3",
   "version": "3.7.6"
  }
 },
 "nbformat": 4,
 "nbformat_minor": 4
}
