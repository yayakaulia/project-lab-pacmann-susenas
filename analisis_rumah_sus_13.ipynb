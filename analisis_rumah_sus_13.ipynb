{
 "cells": [
  {
   "cell_type": "markdown",
   "metadata": {},
   "source": [
    "DATA SUSENAS 2013 KELOMPOK RUMAH TANGGA\n",
    "\n",
    "Analisis Kepemilikan tempat tinggal rumah tangga Indonesia 2013"
   ]
  },
  {
   "cell_type": "markdown",
   "metadata": {},
   "source": [
    "**READ DATA**"
   ]
  },
  {
   "cell_type": "code",
   "execution_count": 138,
   "metadata": {},
   "outputs": [],
   "source": [
    "import pandas as pd\n",
    "import numpy as np\n",
    "import seaborn as sns\n",
    "import matplotlib.pyplot as plt"
   ]
  },
  {
   "cell_type": "code",
   "execution_count": 139,
   "metadata": {},
   "outputs": [],
   "source": [
    "rumah = pd.read_csv('sn13_krt.csv',)\n",
    "\n",
    "rumah = rumah[['b1r1','b1r5','b2r1','b6r1','b6r2','b6r3','b6r5','b6r6','b6r7','exp_cap','wert']]\n",
    "rumah.columns = ['prov','desa_kota','anggota_rt','tipe_bangunan','jumlah_rt','status_milik','atap','dinding','lantai','exp_cap','bobot']"
   ]
  },
  {
   "cell_type": "markdown",
   "metadata": {},
   "source": [
    "saya akan gunakan beberapa variabel di atas yang sudah saya ganti namanya. Awalnya masih menggunakan status kepemilikan rumah saja, nanti akan menggunakan variabel lain untuk menganalisis kualitas rumah."
   ]
  },
  {
   "cell_type": "code",
   "execution_count": 140,
   "metadata": {},
   "outputs": [
    {
     "data": {
      "text/html": [
       "<div>\n",
       "<style scoped>\n",
       "    .dataframe tbody tr th:only-of-type {\n",
       "        vertical-align: middle;\n",
       "    }\n",
       "\n",
       "    .dataframe tbody tr th {\n",
       "        vertical-align: top;\n",
       "    }\n",
       "\n",
       "    .dataframe thead th {\n",
       "        text-align: right;\n",
       "    }\n",
       "</style>\n",
       "<table border=\"1\" class=\"dataframe\">\n",
       "  <thead>\n",
       "    <tr style=\"text-align: right;\">\n",
       "      <th></th>\n",
       "      <th>Total</th>\n",
       "      <th>Percent</th>\n",
       "    </tr>\n",
       "  </thead>\n",
       "  <tbody>\n",
       "    <tr>\n",
       "      <th>bobot</th>\n",
       "      <td>0</td>\n",
       "      <td>0.0</td>\n",
       "    </tr>\n",
       "    <tr>\n",
       "      <th>exp_cap</th>\n",
       "      <td>0</td>\n",
       "      <td>0.0</td>\n",
       "    </tr>\n",
       "    <tr>\n",
       "      <th>lantai</th>\n",
       "      <td>0</td>\n",
       "      <td>0.0</td>\n",
       "    </tr>\n",
       "    <tr>\n",
       "      <th>dinding</th>\n",
       "      <td>0</td>\n",
       "      <td>0.0</td>\n",
       "    </tr>\n",
       "    <tr>\n",
       "      <th>atap</th>\n",
       "      <td>0</td>\n",
       "      <td>0.0</td>\n",
       "    </tr>\n",
       "    <tr>\n",
       "      <th>status_milik</th>\n",
       "      <td>0</td>\n",
       "      <td>0.0</td>\n",
       "    </tr>\n",
       "    <tr>\n",
       "      <th>jumlah_rt</th>\n",
       "      <td>0</td>\n",
       "      <td>0.0</td>\n",
       "    </tr>\n",
       "    <tr>\n",
       "      <th>tipe_bangunan</th>\n",
       "      <td>0</td>\n",
       "      <td>0.0</td>\n",
       "    </tr>\n",
       "    <tr>\n",
       "      <th>anggota_rt</th>\n",
       "      <td>0</td>\n",
       "      <td>0.0</td>\n",
       "    </tr>\n",
       "    <tr>\n",
       "      <th>desa_kota</th>\n",
       "      <td>0</td>\n",
       "      <td>0.0</td>\n",
       "    </tr>\n",
       "    <tr>\n",
       "      <th>prov</th>\n",
       "      <td>0</td>\n",
       "      <td>0.0</td>\n",
       "    </tr>\n",
       "  </tbody>\n",
       "</table>\n",
       "</div>"
      ],
      "text/plain": [
       "               Total  Percent\n",
       "bobot              0      0.0\n",
       "exp_cap            0      0.0\n",
       "lantai             0      0.0\n",
       "dinding            0      0.0\n",
       "atap               0      0.0\n",
       "status_milik       0      0.0\n",
       "jumlah_rt          0      0.0\n",
       "tipe_bangunan      0      0.0\n",
       "anggota_rt         0      0.0\n",
       "desa_kota          0      0.0\n",
       "prov               0      0.0"
      ]
     },
     "execution_count": 140,
     "metadata": {},
     "output_type": "execute_result"
    }
   ],
   "source": [
    "total = rumah.isnull().sum().sort_values(ascending=False)\n",
    "percent = (rumah.isnull().sum()/rumah.isnull().count()).sort_values(ascending=False)\n",
    "missing_data = pd.concat([total, percent], axis=1, keys=['Total', 'Percent'])\n",
    "missing_data.head(20)"
   ]
  },
  {
   "cell_type": "markdown",
   "metadata": {},
   "source": [
    "Data sudah bersih dan tidak ada missing value."
   ]
  },
  {
   "cell_type": "markdown",
   "metadata": {},
   "source": [
    "**CLEANSING DATA**"
   ]
  },
  {
   "cell_type": "code",
   "execution_count": 141,
   "metadata": {},
   "outputs": [],
   "source": [
    "#memberi label desa atau kota\n",
    "rumah.loc[rumah['desa_kota']==1,'desa_kota']='kota'\n",
    "rumah.loc[rumah['desa_kota']==2,'desa_kota']='desa'\n",
    "\n",
    "#memberi label kepemilikan rumah\n",
    "rumah.loc[rumah['status_milik']==1,'kepemilikan']=1\n",
    "rumah.loc[rumah['status_milik']==2,'kepemilikan']=0\n",
    "rumah.loc[rumah['status_milik']==3,'kepemilikan']=0\n",
    "rumah.loc[rumah['status_milik']==4,'kepemilikan']=0\n",
    "rumah.loc[rumah['status_milik']==5,'kepemilikan']=0\n",
    "rumah.loc[rumah['status_milik']==6,'kepemilikan']=0\n",
    "rumah.loc[rumah['status_milik']==7,'kepemilikan']=0\n",
    "\n",
    "#memberi label untuk jawa dan non-jawa"
   ]
  },
  {
   "cell_type": "markdown",
   "metadata": {},
   "source": [
    "Guna untuk visualisasi analisis saya ganti nilai variabelnya supaya langsung terlihat labelnya.\n",
    "\n",
    "Sedikit mengenai kepemilikan rumah. label 1 merupakan milik sendiri, sedangkan 2 - 7 bukan milik sendiri(sewa/kontrak/bebas sewa/dinas). Mengapa yang lain saya kategorikan bukan_milik_sendiri? karena dengan memiliki sendiri lebih menunjukan kemampuan ekonomi. kemungkinan lain yang tidak bisa dilihat mungkin jika kepemilikan itu berasal dari hak waris."
   ]
  },
  {
   "cell_type": "code",
   "execution_count": 142,
   "metadata": {},
   "outputs": [],
   "source": [
    "#perhitungan bobot\n",
    "wt_sum = lambda x: np.sum(x, weights=rumah.loc[x.index, \"bobot\"])\n",
    "wt_mean = lambda x: np.average(x, weights=rumah.loc[x.index, \"bobot\"])"
   ]
  },
  {
   "cell_type": "markdown",
   "metadata": {},
   "source": [
    "\n",
    "**Analisis tingkat kepemilikan tempat tinggal pada rumah tangga Nasional**\n",
    "\n",
    "1. Hipotesis pertama adalah seberapa banyak tingkat kepemilikan tempat tinggal yang dimiliki sendiri oleh sebuah rumah tangga. Apakah rumah tangga di Indonesia lebih banyak yang memiliki tempat tinggal sendiri atau menyewa(kontrak)"
   ]
  },
  {
   "cell_type": "code",
   "execution_count": 143,
   "metadata": {},
   "outputs": [
    {
     "data": {
      "text/html": [
       "<div>\n",
       "<style scoped>\n",
       "    .dataframe tbody tr th:only-of-type {\n",
       "        vertical-align: middle;\n",
       "    }\n",
       "\n",
       "    .dataframe tbody tr th {\n",
       "        vertical-align: top;\n",
       "    }\n",
       "\n",
       "    .dataframe thead th {\n",
       "        text-align: right;\n",
       "    }\n",
       "</style>\n",
       "<table border=\"1\" class=\"dataframe\">\n",
       "  <thead>\n",
       "    <tr style=\"text-align: right;\">\n",
       "      <th></th>\n",
       "      <th>kepemilikan</th>\n",
       "      <th>bobot</th>\n",
       "    </tr>\n",
       "  </thead>\n",
       "  <tbody>\n",
       "    <tr>\n",
       "      <th>0</th>\n",
       "      <td>13482</td>\n",
       "      <td>13323751</td>\n",
       "    </tr>\n",
       "    <tr>\n",
       "      <th>1</th>\n",
       "      <td>57360</td>\n",
       "      <td>49827226</td>\n",
       "    </tr>\n",
       "  </tbody>\n",
       "</table>\n",
       "</div>"
      ],
      "text/plain": [
       "   kepemilikan     bobot\n",
       "0        13482  13323751\n",
       "1        57360  49827226"
      ]
     },
     "execution_count": 143,
     "metadata": {},
     "output_type": "execute_result"
    }
   ],
   "source": [
    "rumah_milik = rumah.groupby(\"kepemilikan\").agg(kepemilikan = (\"kepemilikan\", \"count\"), bobot = (\"bobot\", \"sum\"))\n",
    "rumah_milik.reset_index(drop=True).astype(int)"
   ]
  },
  {
   "cell_type": "code",
   "execution_count": 144,
   "metadata": {},
   "outputs": [
    {
     "data": {
      "text/plain": [
       "<matplotlib.axes._subplots.AxesSubplot at 0x1f97481cbc8>"
      ]
     },
     "execution_count": 144,
     "metadata": {},
     "output_type": "execute_result"
    },
    {
     "data": {
      "image/png": "[encoded data removed]",
      "text/plain": [
       "<Figure size 432x288 with 1 Axes>"
      ]
     },
     "metadata": {
      "needs_background": "light"
     },
     "output_type": "display_data"
    }
   ],
   "source": [
    "#data yang menampilkan tingkat kempemilikikan rumah nasional\n",
    "sns.barplot(x=rumah_milik[\"kepemilikan\"].index, y=rumah_milik[\"bobot\"])"
   ]
  },
  {
   "cell_type": "markdown",
   "metadata": {},
   "source": [
    "Dari pemaparan analisis di atas, diketahui rumah tangga di Indonesia lebih banyak yang memiliki tempat tinggal sendiri ketimbang yang tidak memiliki memiliki. Akan tetapi angka yang tidak memiliki masih cukup tinggi, sekitar 21% dari total rumah tangga masih tidak memiliki tempat tinggal sendiri."
   ]
  },
  {
   "cell_type": "code",
   "execution_count": 145,
   "metadata": {},
   "outputs": [
    {
     "name": "stdout",
     "output_type": "stream",
     "text": [
      "Presentase dari rumah tangga yang tidak memiliki rumah keseluruhan:  bobot    21.09825\n",
      "dtype: float64\n"
     ]
    },
    {
     "name": "stderr",
     "output_type": "stream",
     "text": [
      "C:\\Users\\yuha bach\\anaconda3\\lib\\site-packages\\pandas\\core\\ops\\array_ops.py:253: FutureWarning: elementwise comparison failed; returning scalar instead, but in the future will perform elementwise comparison\n",
      "  res_values = method(rvalues)\n"
     ]
    }
   ],
   "source": [
    "a = rumah[rumah.status_milik == \"bukan_milik_sendiri\"][[\"bobot\"]].sum().astype(int)\n",
    "b = rumah[rumah.status_milik == \"milik_sendiri\"][[\"bobot\"]].sum().astype(int)\n",
    "prcntg = a/(a+b)*100\n",
    "\n",
    "print(\"Presentase dari rumah tangga yang tidak memiliki rumah keseluruhan: \", prcntg_ass)"
   ]
  },
  {
   "cell_type": "markdown",
   "metadata": {},
   "source": [
    "2. Sekarang mari kita coba lihat bagaimana perbandingan kepemilikan rumah di desa dengan kota."
   ]
  },
  {
   "cell_type": "code",
   "execution_count": 146,
   "metadata": {},
   "outputs": [
    {
     "data": {
      "text/html": [
       "<div>\n",
       "<style scoped>\n",
       "    .dataframe tbody tr th:only-of-type {\n",
       "        vertical-align: middle;\n",
       "    }\n",
       "\n",
       "    .dataframe tbody tr th {\n",
       "        vertical-align: top;\n",
       "    }\n",
       "\n",
       "    .dataframe thead th {\n",
       "        text-align: right;\n",
       "    }\n",
       "</style>\n",
       "<table border=\"1\" class=\"dataframe\">\n",
       "  <thead>\n",
       "    <tr style=\"text-align: right;\">\n",
       "      <th></th>\n",
       "      <th></th>\n",
       "      <th>desa_kota</th>\n",
       "      <th>kepemilikan</th>\n",
       "      <th>bobot</th>\n",
       "    </tr>\n",
       "    <tr>\n",
       "      <th>desa_kota</th>\n",
       "      <th>kepemilikan</th>\n",
       "      <th></th>\n",
       "      <th></th>\n",
       "      <th></th>\n",
       "    </tr>\n",
       "  </thead>\n",
       "  <tbody>\n",
       "    <tr>\n",
       "      <th rowspan=\"2\" valign=\"top\">desa</th>\n",
       "      <th>0.0</th>\n",
       "      <td>4819</td>\n",
       "      <td>4819</td>\n",
       "      <td>3874197</td>\n",
       "    </tr>\n",
       "    <tr>\n",
       "      <th>1.0</th>\n",
       "      <td>35547</td>\n",
       "      <td>35547</td>\n",
       "      <td>27994185</td>\n",
       "    </tr>\n",
       "    <tr>\n",
       "      <th rowspan=\"2\" valign=\"top\">kota</th>\n",
       "      <th>0.0</th>\n",
       "      <td>8663</td>\n",
       "      <td>8663</td>\n",
       "      <td>9449553</td>\n",
       "    </tr>\n",
       "    <tr>\n",
       "      <th>1.0</th>\n",
       "      <td>21813</td>\n",
       "      <td>21813</td>\n",
       "      <td>21833040</td>\n",
       "    </tr>\n",
       "  </tbody>\n",
       "</table>\n",
       "</div>"
      ],
      "text/plain": [
       "                       desa_kota  kepemilikan     bobot\n",
       "desa_kota kepemilikan                                  \n",
       "desa      0.0               4819         4819   3874197\n",
       "          1.0              35547        35547  27994185\n",
       "kota      0.0               8663         8663   9449553\n",
       "          1.0              21813        21813  21833040"
      ]
     },
     "execution_count": 146,
     "metadata": {},
     "output_type": "execute_result"
    }
   ],
   "source": [
    "#Perbandingan kepemilikan desa dan kota\n",
    "rumah_urban = rumah.groupby([ \"desa_kota\",\"kepemilikan\"]).agg(desa_kota = (\"desa_kota\", \"count\"),\n",
    "                                             kepemilikan = (\"kepemilikan\", \"count\"),\n",
    "                                             bobot = (\"bobot\", \"sum\"))\n",
    "rumah_urban.astype(int)"
   ]
  },
  {
   "cell_type": "code",
   "execution_count": 147,
   "metadata": {},
   "outputs": [
    {
     "data": {
      "text/plain": [
       "<matplotlib.axes._subplots.AxesSubplot at 0x1f974795888>"
      ]
     },
     "execution_count": 147,
     "metadata": {},
     "output_type": "execute_result"
    },
    {
     "data": {
      "image/png": "[encoded data removed]",
      "text/plain": [
       "<Figure size 432x288 with 1 Axes>"
      ]
     },
     "metadata": {
      "needs_background": "light"
     },
     "output_type": "display_data"
    }
   ],
   "source": [
    "sns.barplot(x=rumah_urban[\"desa_kota\"].index, y=rumah_urban[\"bobot\"])"
   ]
  },
  {
   "cell_type": "markdown",
   "metadata": {},
   "source": [
    "Temuan pada perbandingan tersebut cukup menarik dimana jumlah rumah tangga pedesaan lebih sedikit yang tidak memiliki rumah sendiri dibandingkan dengan perkotaan. Jika kita lihat angkanya, hampir separuh populasi di perkotaan tidak memiliki sendiri. Faktor penyebab ketimpangan ini mungkin bisa dilihat dari harga rumah di perkotaan yang lebih tinggi dan kepadatan penduduk di perkotaan."
   ]
  },
  {
   "cell_type": "markdown",
   "metadata": {},
   "source": [
    "3. perbandingan tingkat kepemilikan rumah di pulau jawa dan non-jawa"
   ]
  },
  {
   "cell_type": "code",
   "execution_count": null,
   "metadata": {},
   "outputs": [],
   "source": []
  }
 ],
 "metadata": {
  "kernelspec": {
   "display_name": "Python 3",
   "language": "python",
   "name": "python3"
  },
  "language_info": {
   "codemirror_mode": {
    "name": "ipython",
    "version": 3
   },
   "file_extension": ".py",
   "mimetype": "text/x-python",
   "name": "python",
   "nbconvert_exporter": "python",
   "pygments_lexer": "ipython3",
   "version": "3.7.6"
  }
 },
 "nbformat": 4,
 "nbformat_minor": 4
}
